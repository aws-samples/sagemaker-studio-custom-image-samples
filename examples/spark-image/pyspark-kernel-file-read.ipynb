{
 "cells": [
  {
   "cell_type": "code",
   "execution_count": null,
   "metadata": {},
   "outputs": [],
   "source": [
    "!/usr/local/bin/fix-host-settings  "
   ]
  },
  {
   "cell_type": "code",
   "execution_count": null,
   "metadata": {},
   "outputs": [],
   "source": [
    "from pyspark.sql import SparkSession\n",
    "import sagemaker_pyspark\n",
    "import boto3\n",
    "\n",
    "# Configure Spark to use the SageMaker Spark dependency jars\n",
    "classpath = \":\".join(sagemaker_pyspark.classpath_jars())\n",
    "spark = SparkSession.builder.config(\"spark.driver.extraClassPath\", classpath).getOrCreate()\n",
    "\n",
    "\n",
    "# This option is to read obecjts using long term credentials\n",
    "# spark._jsc.hadoopConfiguration().set(\"fs.s3a.aws.credentials.provider\",\"org.apache.hadoop.fs.s3a.SimpleAWSCredentialsProvider\")\n",
    "# spark.sparkContext._jsc.hadoopConfiguration().set('fs.s3a.access.key', 'accesskey')\n",
    "# spark.sparkContext._jsc.hadoopConfiguration().set('fs.s3a.secret.key', 'sceretkey')\n",
    "\n",
    "# This option is to read obecjts using short term credentials\n",
    "# spark._jsc.hadoopConfiguration().set(\"fs.s3a.aws.credentials.provider\",\"org.apache.hadoop.fs.s3a.TemporaryAWSCredentialsProvider\")\n",
    "# spark.sparkContext._jsc.hadoopConfiguration().set('fs.s3a.access.key', 'accesskey')\n",
    "# spark.sparkContext._jsc.hadoopConfiguration().set('fs.s3a.secret.key', 'sceretkey')\n",
    "# spark.sparkContext._jsc.hadoopConfiguration().set('fs.s3a.session.token', 'sessiontoken')\n",
    "\n",
    "\n",
    "# This option is to read public readable objects/buckets\n",
    "spark.sparkContext._jsc.hadoopConfiguration().set('fs.s3a.aws.credentials.provider', 'org.apache.hadoop.fs.s3a.AnonymousAWSCredentialsProvider')\n",
    "\n",
    "df = spark.read.json(\"s3a://awsglue-datasets/examples/us-legislators/all/organizations.json\")\n",
    "df.printSchema()\n",
    "df.show()"
   ]
  }
 ],
 "metadata": {
  "instance_type": "ml.t3.medium",
  "kernelspec": {
   "display_name": "ask (ask/1)",
   "language": "python",
   "name": "python3__SAGEMAKER_INTERNAL__arn:aws:sagemaker:eu-west-1:694846537485:image-version/ask/1"
  },
  "language_info": {
   "codemirror_mode": {
    "name": "ipython",
    "version": 3
   },
   "file_extension": ".py",
   "mimetype": "text/x-python",
   "name": "python",
   "nbconvert_exporter": "python",
   "pygments_lexer": "ipython3",
   "version": "3.7.10"
  }
 },
 "nbformat": 4,
 "nbformat_minor": 4
}